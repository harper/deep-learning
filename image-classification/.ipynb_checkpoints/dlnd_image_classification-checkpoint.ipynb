{
 "cells": [
  {
   "cell_type": "markdown",
   "metadata": {
    "collapsed": true,
    "deletable": true,
    "editable": true
   },
   "source": [
    "# Image Classification\n",
    "In this project, you'll classify images from the [CIFAR-10 dataset](https://www.cs.toronto.edu/~kriz/cifar.html).  The dataset consists of airplanes, dogs, cats, and other objects. You'll preprocess the images, then train a convolutional neural network on all the samples. The images need to be normalized and the labels need to be one-hot encoded.  You'll get to apply what you learned and build a convolutional, max pooling, dropout, and fully connected layers.  At the end, you'll get to see your neural network's predictions on the sample images.\n",
    "## Get the Data\n",
    "Run the following cell to download the [CIFAR-10 dataset for python](https://www.cs.toronto.edu/~kriz/cifar-10-python.tar.gz)."
   ]
  },
  {
   "cell_type": "code",
   "execution_count": 2,
   "metadata": {
    "collapsed": false,
    "deletable": true,
    "editable": true
   },
   "outputs": [
    {
     "name": "stdout",
     "output_type": "stream",
     "text": [
      "All files found!\n"
     ]
    }
   ],
   "source": [
    "\"\"\"\n",
    "DON'T MODIFY ANYTHING IN THIS CELL THAT IS BELOW THIS LINE\n",
    "\"\"\"\n",
    "from urllib.request import urlretrieve\n",
    "from os.path import isfile, isdir\n",
    "from tqdm import tqdm\n",
    "import problem_unittests as tests\n",
    "import tarfile\n",
    "\n",
    "cifar10_dataset_folder_path = 'cifar-10-batches-py'\n",
    "\n",
    "class DLProgress(tqdm):\n",
    "    last_block = 0\n",
    "\n",
    "    def hook(self, block_num=1, block_size=1, total_size=None):\n",
    "        self.total = total_size\n",
    "        self.update((block_num - self.last_block) * block_size)\n",
    "        self.last_block = block_num\n",
    "\n",
    "if not isfile('cifar-10-python.tar.gz'):\n",
    "    with DLProgress(unit='B', unit_scale=True, miniters=1, desc='CIFAR-10 Dataset') as pbar:\n",
    "        urlretrieve(\n",
    "            'https://www.cs.toronto.edu/~kriz/cifar-10-python.tar.gz',\n",
    "            'cifar-10-python.tar.gz',\n",
    "            pbar.hook)\n",
    "\n",
    "if not isdir(cifar10_dataset_folder_path):\n",
    "    with tarfile.open('cifar-10-python.tar.gz') as tar:\n",
    "        tar.extractall()\n",
    "        tar.close()\n",
    "\n",
    "\n",
    "tests.test_folder_path(cifar10_dataset_folder_path)"
   ]
  },
  {
   "cell_type": "markdown",
   "metadata": {
    "deletable": true,
    "editable": true
   },
   "source": [
    "## Explore the Data\n",
    "The dataset is broken into batches to prevent your machine from running out of memory.  The CIFAR-10 dataset consists of 5 batches, named `data_batch_1`, `data_batch_2`, etc.. Each batch contains the labels and images that are one of the following:\n",
    "* airplane\n",
    "* automobile\n",
    "* bird\n",
    "* cat\n",
    "* deer\n",
    "* dog\n",
    "* frog\n",
    "* horse\n",
    "* ship\n",
    "* truck\n",
    "\n",
    "Understanding a dataset is part of making predictions on the data.  Play around with the code cell below by changing the `batch_id` and `sample_id`. The `batch_id` is the id for a batch (1-5). The `sample_id` is the id for a image and label pair in the batch.\n",
    "\n",
    "Ask yourself \"What are all possible labels?\", \"What is the range of values for the image data?\", \"Are the labels in order or random?\".  Answers to questions like these will help you preprocess the data and end up with better predictions."
   ]
  },
  {
   "cell_type": "code",
   "execution_count": 3,
   "metadata": {
    "collapsed": false,
    "deletable": true,
    "editable": true,
    "scrolled": true
   },
   "outputs": [
    {
     "name": "stdout",
     "output_type": "stream",
     "text": [
      "\n",
      "Stats of batch 1:\n",
      "Samples: 10000\n",
      "Label Counts: {0: 1005, 1: 974, 2: 1032, 3: 1016, 4: 999, 5: 937, 6: 1030, 7: 1001, 8: 1025, 9: 981}\n",
      "First 20 Labels: [6, 9, 9, 4, 1, 1, 2, 7, 8, 3, 4, 7, 7, 2, 9, 9, 9, 3, 2, 6]\n",
      "\n",
      "Example of Image 7:\n",
      "Image - Min Value: 9 Max Value: 248\n",
      "Image - Shape: (32, 32, 3)\n",
      "Label - Label Id: 7 Name: horse\n"
     ]
    },
    {
     "data": {
      "image/png": "[encoded data removed]",
      "text/plain": [
       "<matplotlib.figure.Figure at 0x113b29780>"
      ]
     },
     "metadata": {
      "image/png": {
       "height": 250,
       "width": 253
      }
     },
     "output_type": "display_data"
    }
   ],
   "source": [
    "%matplotlib inline\n",
    "%config InlineBackend.figure_format = 'retina'\n",
    "\n",
    "import helper\n",
    "import numpy as np\n",
    "\n",
    "# Explore the dataset\n",
    "batch_id = 1\n",
    "sample_id = 7\n",
    "helper.display_stats(cifar10_dataset_folder_path, batch_id, sample_id)"
   ]
  },
  {
   "cell_type": "markdown",
   "metadata": {
    "deletable": true,
    "editable": true
   },
   "source": [
    "## Implement Preprocess Functions\n",
    "### Normalize\n",
    "In the cell below, implement the `normalize` function to take in image data, `x`, and return it as a normalized Numpy array. The values should be in the range of 0 to 1, inclusive.  The return object should be the same shape as `x`."
   ]
  },
  {
   "cell_type": "code",
   "execution_count": 4,
   "metadata": {
    "collapsed": false,
    "deletable": true,
    "editable": true
   },
   "outputs": [
    {
     "name": "stdout",
     "output_type": "stream",
     "text": [
      "Tests Passed\n"
     ]
    }
   ],
   "source": [
    "def normalize(x):\n",
    "    \"\"\"\n",
    "    Normalize a list of sample image data in the range of 0 to 1\n",
    "    : x: List of image data.  The image shape is (32, 32, 3)\n",
    "    : return: Numpy array of normalize data\n",
    "    \"\"\"\n",
    "    # TODO: Implement Function\n",
    "    x = np.array(x, np.float)\n",
    "    return x / 255\n",
    "\n",
    "\"\"\"\n",
    "DON'T MODIFY ANYTHING IN THIS CELL THAT IS BELOW THIS LINE\n",
    "\"\"\"\n",
    "tests.test_normalize(normalize)"
   ]
  },
  {
   "cell_type": "markdown",
   "metadata": {
    "deletable": true,
    "editable": true
   },
   "source": [
    "### One-hot encode\n",
    "Just like the previous code cell, you'll be implementing a function for preprocessing.  This time, you'll implement the `one_hot_encode` function. The input, `x`, are a list of labels.  Implement the function to return the list of labels as One-Hot encoded Numpy array.  The possible values for labels are 0 to 9. The one-hot encoding function should return the same encoding for each value between each call to `one_hot_encode`.  Make sure to save the map of encodings outside the function.\n",
    "\n",
    "Hint: Don't reinvent the wheel."
   ]
  },
  {
   "cell_type": "code",
   "execution_count": 5,
   "metadata": {
    "collapsed": false,
    "deletable": true,
    "editable": true
   },
   "outputs": [
    {
     "name": "stdout",
     "output_type": "stream",
     "text": [
      "Tests Passed\n"
     ]
    }
   ],
   "source": [
    "one_hot_dictionary = None\n",
    "from sklearn import preprocessing\n",
    "\n",
    "def one_hot_encode(x):\n",
    "    \"\"\"\n",
    "    One hot encode a list of sample labels. Return a one-hot encoded vector for each label.\n",
    "    : x: List of sample Labels\n",
    "    : return: Numpy array of one-hot encoded labels\n",
    "    \"\"\"\n",
    "    # TODO: Implement Function\n",
    "    x_hash = hash(tuple(np.array(x)))\n",
    "    \n",
    "    global one_hot_dictionary\n",
    "    if one_hot_dictionary is None:\n",
    "        one_hot_dictionary = {}\n",
    "    if x_hash not in one_hot_dictionary:\n",
    "        labels = np.array(x)\n",
    "        lb = preprocessing.LabelBinarizer()\n",
    "        lb.fit(range(10))\n",
    "        one_hot_dictionary[x_hash] = lb.transform(labels)\n",
    "    return one_hot_dictionary[x_hash]\n",
    "    \n",
    "\"\"\"\n",
    "DON'T MODIFY ANYTHING IN THIS CELL THAT IS BELOW THIS LINE\n",
    "\"\"\"\n",
    "tests.test_one_hot_encode(one_hot_encode)"
   ]
  },
  {
   "cell_type": "raw",
   "metadata": {
    "collapsed": false,
    "deletable": true,
    "editable": true
   },
   "source": []
  },
  {
   "cell_type": "markdown",
   "metadata": {
    "deletable": true,
    "editable": true
   },
   "source": [
    "### Randomize Data\n",
    "As you saw from exploring the data above, the order of the samples are randomized.  It doesn't hurt to randomize it again, but you don't need to for this dataset."
   ]
  },
  {
   "cell_type": "markdown",
   "metadata": {
    "deletable": true,
    "editable": true
   },
   "source": [
    "## Preprocess all the data and save it\n",
    "Running the code cell below will preprocess all the CIFAR-10 data and save it to file. The code below also uses 10% of the training data for validation."
   ]
  },
  {
   "cell_type": "code",
   "execution_count": 6,
   "metadata": {
    "collapsed": false,
    "deletable": true,
    "editable": true
   },
   "outputs": [],
   "source": [
    "\"\"\"\n",
    "DON'T MODIFY ANYTHING IN THIS CELL\n",
    "\"\"\"\n",
    "# Preprocess Training, Validation, and Testing Data\n",
    "helper.preprocess_and_save_data(cifar10_dataset_folder_path, normalize, one_hot_encode)"
   ]
  },
  {
   "cell_type": "markdown",
   "metadata": {
    "deletable": true,
    "editable": true
   },
   "source": [
    "# Check Point\n",
    "This is your first checkpoint.  If you ever decide to come back to this notebook or have to restart the notebook, you can start from here.  The preprocessed data has been saved to disk."
   ]
  },
  {
   "cell_type": "code",
   "execution_count": 7,
   "metadata": {
    "collapsed": true,
    "deletable": true,
    "editable": true
   },
   "outputs": [],
   "source": [
    "\"\"\"\n",
    "DON'T MODIFY ANYTHING IN THIS CELL\n",
    "\"\"\"\n",
    "import pickle\n",
    "import problem_unittests as tests\n",
    "import helper\n",
    "\n",
    "# Load the Preprocessed Validation data\n",
    "valid_features, valid_labels = pickle.load(open('preprocess_validation.p', mode='rb'))"
   ]
  },
  {
   "cell_type": "markdown",
   "metadata": {
    "deletable": true,
    "editable": true
   },
   "source": [
    "## Build the network\n",
    "For the neural network, you'll build each layer into a function.  Most of the code you've seen has been outside of functions. To test your code more thoroughly, we require that you put each layer in a function.  This allows us to give you better feedback and test for simple mistakes using our unittests before you submit your project.\n",
    "\n",
    ">**Note:** If you're finding it hard to dedicate enough time for this course each week, we've provided a small shortcut to this part of the project. In the next couple of problems, you'll have the option to use classes from the [TensorFlow Layers](https://www.tensorflow.org/api_docs/python/tf/layers) or [TensorFlow Layers (contrib)](https://www.tensorflow.org/api_guides/python/contrib.layers) packages to build each layer, except the layers you build in the \"Convolutional and Max Pooling Layer\" section.  TF Layers is similar to Keras's and TFLearn's abstraction to layers, so it's easy to pickup.\n",
    "\n",
    ">However, if you would like to get the most out of this course, try to solve all the problems _without_ using anything from the TF Layers packages. You **can** still use classes from other packages that happen to have the same name as ones you find in TF Layers! For example, instead of using the TF Layers version of the `conv2d` class, [tf.layers.conv2d](https://www.tensorflow.org/api_docs/python/tf/layers/conv2d), you would want to use the TF Neural Network version of `conv2d`, [tf.nn.conv2d](https://www.tensorflow.org/api_docs/python/tf/nn/conv2d). \n",
    "\n",
    "Let's begin!\n",
    "\n",
    "### Input\n",
    "The neural network needs to read the image data, one-hot encoded labels, and dropout keep probability. Implement the following functions\n",
    "* Implement `neural_net_image_input`\n",
    " * Return a [TF Placeholder](https://www.tensorflow.org/api_docs/python/tf/placeholder)\n",
    " * Set the shape using `image_shape` with batch size set to `None`.\n",
    " * Name the TensorFlow placeholder \"x\" using the TensorFlow `name` parameter in the [TF Placeholder](https://www.tensorflow.org/api_docs/python/tf/placeholder).\n",
    "* Implement `neural_net_label_input`\n",
    " * Return a [TF Placeholder](https://www.tensorflow.org/api_docs/python/tf/placeholder)\n",
    " * Set the shape using `n_classes` with batch size set to `None`.\n",
    " * Name the TensorFlow placeholder \"y\" using the TensorFlow `name` parameter in the [TF Placeholder](https://www.tensorflow.org/api_docs/python/tf/placeholder).\n",
    "* Implement `neural_net_keep_prob_input`\n",
    " * Return a [TF Placeholder](https://www.tensorflow.org/api_docs/python/tf/placeholder) for dropout keep probability.\n",
    " * Name the TensorFlow placeholder \"keep_prob\" using the TensorFlow `name` parameter in the [TF Placeholder](https://www.tensorflow.org/api_docs/python/tf/placeholder).\n",
    "\n",
    "These names will be used at the end of the project to load your saved model.\n",
    "\n",
    "Note: `None` for shapes in TensorFlow allow for a dynamic size."
   ]
  },
  {
   "cell_type": "code",
   "execution_count": 8,
   "metadata": {
    "collapsed": false,
    "deletable": true,
    "editable": true
   },
   "outputs": [
    {
     "name": "stdout",
     "output_type": "stream",
     "text": [
      "Image Input Tests Passed.\n",
      "Label Input Tests Passed.\n",
      "Keep Prob Tests Passed.\n"
     ]
    }
   ],
   "source": [
    "import tensorflow as tf\n",
    "\n",
    "def neural_net_image_input(image_shape):\n",
    "    \"\"\"\n",
    "    Return a Tensor for a batch of image input\n",
    "    : image_shape: Shape of the images\n",
    "    : return: Tensor for image input.\n",
    "    \"\"\"\n",
    "    # TODO: Implement Function\n",
    "    return tf.placeholder(tf.float32,[None,image_shape[0], image_shape[1], image_shape[2]],name=\"x\")\n",
    "\n",
    "\n",
    "def neural_net_label_input(n_classes):\n",
    "    \"\"\"\n",
    "    Return a Tensor for a batch of label input\n",
    "    : n_classes: Number of classes\n",
    "    : return: Tensor for label input.\n",
    "    \"\"\"\n",
    "    # TODO: Implement Function\n",
    "    return tf.placeholder(tf.float32,[None,n_classes],name=\"y\")\n",
    "\n",
    "\n",
    "def neural_net_keep_prob_input():\n",
    "    \"\"\"\n",
    "    Return a Tensor for keep probability\n",
    "    : return: Tensor for keep probability.\n",
    "    \"\"\"\n",
    "    # TODO: Implement Function\n",
    "    return tf.placeholder(tf.float32,name=\"keep_prob\")\n",
    "\n",
    "\n",
    "\"\"\"\n",
    "DON'T MODIFY ANYTHING IN THIS CELL THAT IS BELOW THIS LINE\n",
    "\"\"\"\n",
    "tf.reset_default_graph()\n",
    "tests.test_nn_image_inputs(neural_net_image_input)\n",
    "tests.test_nn_label_inputs(neural_net_label_input)\n",
    "tests.test_nn_keep_prob_inputs(neural_net_keep_prob_input)"
   ]
  },
  {
   "cell_type": "markdown",
   "metadata": {
    "deletable": true,
    "editable": true
   },
   "source": [
    "### Convolution and Max Pooling Layer\n",
    "Convolution layers have a lot of success with images. For this code cell, you should implement the function `conv2d_maxpool` to apply convolution then max pooling:\n",
    "* Create the weight and bias using `conv_ksize`, `conv_num_outputs` and the shape of `x_tensor`.\n",
    "* Apply a convolution to `x_tensor` using weight and `conv_strides`.\n",
    " * We recommend you use same padding, but you're welcome to use any padding.\n",
    "* Add bias\n",
    "* Add a nonlinear activation to the convolution.\n",
    "* Apply Max Pooling using `pool_ksize` and `pool_strides`.\n",
    " * We recommend you use same padding, but you're welcome to use any padding.\n",
    "\n",
    "**Note:** You **can't** use [TensorFlow Layers](https://www.tensorflow.org/api_docs/python/tf/layers) or [TensorFlow Layers (contrib)](https://www.tensorflow.org/api_guides/python/contrib.layers) for **this** layer, but you can still use TensorFlow's [Neural Network](https://www.tensorflow.org/api_docs/python/tf/nn) package. You may still use the shortcut option for all the **other** layers."
   ]
  },
  {
   "cell_type": "code",
   "execution_count": 9,
   "metadata": {
    "collapsed": false,
    "deletable": true,
    "editable": true
   },
   "outputs": [
    {
     "name": "stdout",
     "output_type": "stream",
     "text": [
      "Tests Passed\n"
     ]
    }
   ],
   "source": [
    "def conv2d_maxpool(x_tensor, conv_num_outputs, conv_ksize, conv_strides, pool_ksize, pool_strides):\n",
    "    \"\"\"\n",
    "    Apply convolution then max pooling to x_tensor\n",
    "    :param x_tensor: TensorFlow Tensor\n",
    "    :param conv_num_outputs: Number of outputs for the convolutional layer\n",
    "    :param conv_ksize: kernal size 2-D Tuple for the convolutional layer\n",
    "    :param conv_strides: Stride 2-D Tuple for convolution\n",
    "    :param pool_ksize: kernal size 2-D Tuple for pool\n",
    "    :param pool_strides: Stride 2-D Tuple for pool\n",
    "    : return: A tensor that represents convolution and max pooling of x_tensor\n",
    "    \"\"\"\n",
    "\n",
    "    # TODO: Implement Function\n",
    "    weights = tf.Variable(tf.truncated_normal((32, 32, x_tensor.get_shape().as_list()[3], conv_num_outputs), stddev=0.05))\n",
    "    bias = tf.Variable(tf.zeros(conv_num_outputs))\n",
    "    convolution = tf.nn.conv2d(x_tensor, weights, [1,conv_strides[0],conv_strides[1],1], padding='SAME')\n",
    "    convolution = tf.nn.bias_add(convolution, bias)\n",
    "    convolution = tf.nn.relu(convolution)\n",
    "    max_pool = tf.nn.max_pool(convolution, [1,pool_ksize[0], pool_ksize[1],1], [1,pool_strides[0], pool_strides[1],1],padding='SAME')\n",
    "    return max_pool \n",
    "\n",
    "\n",
    "\"\"\"\n",
    "DON'T MODIFY ANYTHING IN THIS CELL THAT IS BELOW THIS LINE\n",
    "\"\"\"\n",
    "tests.test_con_pool(conv2d_maxpool)"
   ]
  },
  {
   "cell_type": "markdown",
   "metadata": {
    "deletable": true,
    "editable": true
   },
   "source": [
    "### Flatten Layer\n",
    "Implement the `flatten` function to change the dimension of `x_tensor` from a 4-D tensor to a 2-D tensor.  The output should be the shape (*Batch Size*, *Flattened Image Size*). Shortcut option: you can use classes from the [TensorFlow Layers](https://www.tensorflow.org/api_docs/python/tf/layers) or [TensorFlow Layers (contrib)](https://www.tensorflow.org/api_guides/python/contrib.layers) packages for this layer. For more of a challenge, only use other TensorFlow packages."
   ]
  },
  {
   "cell_type": "code",
   "execution_count": 10,
   "metadata": {
    "collapsed": false,
    "deletable": true,
    "editable": true
   },
   "outputs": [
    {
     "name": "stdout",
     "output_type": "stream",
     "text": [
      "Tests Passed\n"
     ]
    }
   ],
   "source": [
    "def flatten(x_tensor):\n",
    "    \"\"\"\n",
    "    Flatten x_tensor to (Batch Size, Flattened Image Size)\n",
    "    : x_tensor: A tensor of size (Batch Size, ...), where ... are the image dimensions.\n",
    "    : return: A tensor of size (Batch Size, Flattened Image Size).\n",
    "    \"\"\"\n",
    "    # TODO: Implement Function\n",
    "    return tf.contrib.layers.flatten(x_tensor)\n",
    "\n",
    "\n",
    "\"\"\"\n",
    "DON'T MODIFY ANYTHING IN THIS CELL THAT IS BELOW THIS LINE\n",
    "\"\"\"\n",
    "tests.test_flatten(flatten)"
   ]
  },
  {
   "cell_type": "markdown",
   "metadata": {
    "deletable": true,
    "editable": true
   },
   "source": [
    "### Fully-Connected Layer\n",
    "Implement the `fully_conn` function to apply a fully connected layer to `x_tensor` with the shape (*Batch Size*, *num_outputs*). Shortcut option: you can use classes from the [TensorFlow Layers](https://www.tensorflow.org/api_docs/python/tf/layers) or [TensorFlow Layers (contrib)](https://www.tensorflow.org/api_guides/python/contrib.layers) packages for this layer. For more of a challenge, only use other TensorFlow packages."
   ]
  },
  {
   "cell_type": "code",
   "execution_count": 11,
   "metadata": {
    "collapsed": false,
    "deletable": true,
    "editable": true
   },
   "outputs": [
    {
     "name": "stdout",
     "output_type": "stream",
     "text": [
      "Tests Passed\n"
     ]
    }
   ],
   "source": [
    "def fully_conn(x_tensor, num_outputs):\n",
    "    \"\"\"\n",
    "    Apply a fully connected layer to x_tensor using weight and bias\n",
    "    : x_tensor: A 2-D tensor where the first dimension is batch size.\n",
    "    : num_outputs: The number of output that the new tensor should be.\n",
    "    : return: A 2-D tensor where the second dimension is num_outputs.\n",
    "    \"\"\"\n",
    "    # TODO: Implement Function\n",
    "    return tf.contrib.layers.fully_connected(x_tensor, num_outputs, activation_fn=tf.nn.relu)\n",
    "\n",
    "\n",
    "\"\"\"\n",
    "DON'T MODIFY ANYTHING IN THIS CELL THAT IS BELOW THIS LINE\n",
    "\"\"\"\n",
    "tests.test_fully_conn(fully_conn)"
   ]
  },
  {
   "cell_type": "markdown",
   "metadata": {
    "deletable": true,
    "editable": true
   },
   "source": [
    "### Output Layer\n",
    "Implement the `output` function to apply a fully connected layer to `x_tensor` with the shape (*Batch Size*, *num_outputs*). Shortcut option: you can use classes from the [TensorFlow Layers](https://www.tensorflow.org/api_docs/python/tf/layers) or [TensorFlow Layers (contrib)](https://www.tensorflow.org/api_guides/python/contrib.layers) packages for this layer. For more of a challenge, only use other TensorFlow packages.\n",
    "\n",
    "**Note:** Activation, softmax, or cross entropy should **not** be applied to this."
   ]
  },
  {
   "cell_type": "code",
   "execution_count": 12,
   "metadata": {
    "collapsed": false,
    "deletable": true,
    "editable": true
   },
   "outputs": [
    {
     "name": "stdout",
     "output_type": "stream",
     "text": [
      "Tests Passed\n"
     ]
    }
   ],
   "source": [
    "def output(x_tensor, num_outputs):\n",
    "    \"\"\"\n",
    "    Apply a output layer to x_tensor using weight and bias\n",
    "    : x_tensor: A 2-D tensor where the first dimension is batch size.\n",
    "    : num_outputs: The number of output that the new tensor should be.\n",
    "    : return: A 2-D tensor where the second dimension is num_outputs.\n",
    "    \"\"\"\n",
    "    # TODO: Implement Function\n",
    "    return tf.contrib.layers.fully_connected(x_tensor, num_outputs, activation_fn=None)\n",
    "\n",
    "\n",
    "\"\"\"\n",
    "DON'T MODIFY ANYTHING IN THIS CELL THAT IS BELOW THIS LINE\n",
    "\"\"\"\n",
    "tests.test_output(output)"
   ]
  },
  {
   "cell_type": "markdown",
   "metadata": {
    "deletable": true,
    "editable": true
   },
   "source": [
    "### Create Convolutional Model\n",
    "Implement the function `conv_net` to create a convolutional neural network model. The function takes in a batch of images, `x`, and outputs logits.  Use the layers you created above to create this model:\n",
    "\n",
    "* Apply 1, 2, or 3 Convolution and Max Pool layers\n",
    "* Apply a Flatten Layer\n",
    "* Apply 1, 2, or 3 Fully Connected Layers\n",
    "* Apply an Output Layer\n",
    "* Return the output\n",
    "* Apply [TensorFlow's Dropout](https://www.tensorflow.org/api_docs/python/tf/nn/dropout) to one or more layers in the model using `keep_prob`. "
   ]
  },
  {
   "cell_type": "code",
   "execution_count": 13,
   "metadata": {
    "collapsed": false,
    "deletable": true,
    "editable": true
   },
   "outputs": [
    {
     "name": "stdout",
     "output_type": "stream",
     "text": [
      "Neural Network Built!\n"
     ]
    }
   ],
   "source": [
    "def conv_net(x, keep_prob):\n",
    "    \"\"\"\n",
    "    Create a convolutional neural network model\n",
    "    : x: Placeholder tensor that holds image data.\n",
    "    : keep_prob: Placeholder tensor that hold dropout keep probability.\n",
    "    : return: Tensor that represents logits\n",
    "    \"\"\"\n",
    "    # TODO: Apply 1, 2, or 3 Convolution and Max Pool layers\n",
    "    #    Play around with different number of outputs, kernel size and stride\n",
    "    # Function Definition from Above:\n",
    "    x_tensor = x\n",
    "    conv_num_outputs = 32\n",
    "    conv_ksize = (8,8)\n",
    "    conv_strides = (2,2)\n",
    "    pool_ksize = (2,2)\n",
    "    pool_strides = (2,2)\n",
    "    \n",
    "    x_tensor = conv2d_maxpool(x_tensor, conv_num_outputs, conv_ksize, conv_strides, pool_ksize, pool_strides)\n",
    "    x_tensor = tf.nn.dropout(x_tensor, keep_prob)\n",
    "    \n",
    "    conv_num_outputs = 32\n",
    "    conv_ksize = (4,4)\n",
    "    conv_strides = (2,2)\n",
    "    pool_ksize = (4,4)\n",
    "    pool_strides = (2,2)\n",
    "    \n",
    "    x_tensor = conv2d_maxpool(x_tensor, conv_num_outputs, conv_ksize, conv_strides, pool_ksize, pool_strides)\n",
    "    x_tensor = tf.nn.dropout(x_tensor, keep_prob)\n",
    "    \n",
    "    conv_num_outputs = 32\n",
    "    conv_ksize = (2,2)\n",
    "    conv_strides = (1,1)\n",
    "    pool_ksize = (2,2)\n",
    "    pool_strides = (1,1)\n",
    "    \n",
    "    x_tensor = conv2d_maxpool(x_tensor, conv_num_outputs, conv_ksize, conv_strides, pool_ksize, pool_strides)\n",
    "    x_tensor = tf.nn.dropout(x_tensor, keep_prob)\n",
    "\n",
    "    # TODO: Apply a Flatten Layer\n",
    "    # Function Definition from Above:\n",
    "    x_tensor = flatten(x_tensor)\n",
    "    \n",
    "\n",
    "    # TODO: Apply 1, 2, or 3 Fully Connected Layers\n",
    "    #    Play around with different number of outputs\n",
    "    # Function Definition from Above:\n",
    "    num_outputs = 100\n",
    "    x_tensor = fully_conn(x_tensor, num_outputs)\n",
    "    \n",
    "    \n",
    "    # TODO: Apply an Output Layer\n",
    "    #    Set this to the number of classes\n",
    "    # Function Definition from Above:\n",
    "    num_outputs = 10\n",
    "    x_tensor = output(x_tensor, num_outputs)\n",
    "    \n",
    "    \n",
    "    # TODO: return output\n",
    "    return x_tensor\n",
    "\n",
    "\n",
    "\"\"\"\n",
    "DON'T MODIFY ANYTHING IN THIS CELL THAT IS BELOW THIS LINE\n",
    "\"\"\"\n",
    "\n",
    "##############################\n",
    "## Build the Neural Network ##\n",
    "##############################\n",
    "\n",
    "# Remove previous weights, bias, inputs, etc..\n",
    "tf.reset_default_graph()\n",
    "\n",
    "# Inputs\n",
    "x = neural_net_image_input((32, 32, 3))\n",
    "y = neural_net_label_input(10)\n",
    "keep_prob = neural_net_keep_prob_input()\n",
    "\n",
    "# Model\n",
    "logits = conv_net(x, keep_prob)\n",
    "\n",
    "# Name logits Tensor, so that is can be loaded from disk after training\n",
    "logits = tf.identity(logits, name='logits')\n",
    "\n",
    "# Loss and Optimizer\n",
    "cost = tf.reduce_mean(tf.nn.softmax_cross_entropy_with_logits(logits=logits, labels=y))\n",
    "optimizer = tf.train.AdamOptimizer().minimize(cost)\n",
    "\n",
    "# Accuracy\n",
    "correct_pred = tf.equal(tf.argmax(logits, 1), tf.argmax(y, 1))\n",
    "accuracy = tf.reduce_mean(tf.cast(correct_pred, tf.float32), name='accuracy')\n",
    "\n",
    "tests.test_conv_net(conv_net)"
   ]
  },
  {
   "cell_type": "markdown",
   "metadata": {
    "deletable": true,
    "editable": true
   },
   "source": [
    "## Train the Neural Network\n",
    "### Single Optimization\n",
    "Implement the function `train_neural_network` to do a single optimization.  The optimization should use `optimizer` to optimize in `session` with a `feed_dict` of the following:\n",
    "* `x` for image input\n",
    "* `y` for labels\n",
    "* `keep_prob` for keep probability for dropout\n",
    "\n",
    "This function will be called for each batch, so `tf.global_variables_initializer()` has already been called.\n",
    "\n",
    "Note: Nothing needs to be returned. This function is only optimizing the neural network."
   ]
  },
  {
   "cell_type": "code",
   "execution_count": 14,
   "metadata": {
    "collapsed": false,
    "deletable": true,
    "editable": true
   },
   "outputs": [
    {
     "name": "stdout",
     "output_type": "stream",
     "text": [
      "Tests Passed\n"
     ]
    }
   ],
   "source": [
    "def train_neural_network(session, optimizer, keep_probability, feature_batch, label_batch):\n",
    "    \"\"\"\n",
    "    Optimize the session on a batch of images and labels\n",
    "    : session: Current TensorFlow session\n",
    "    : optimizer: TensorFlow optimizer function\n",
    "    : keep_probability: keep probability\n",
    "    : feature_batch: Batch of Numpy image data\n",
    "    : label_batch: Batch of Numpy label data\n",
    "    \"\"\"\n",
    "    # TODO: Implement Function\n",
    "    \n",
    "\n",
    "    \n",
    "    session.run(optimizer, feed_dict={\n",
    "        x: feature_batch,\n",
    "        y: label_batch,\n",
    "        keep_prob: keep_probability})\n",
    "\n",
    "\n",
    "\"\"\"\n",
    "DON'T MODIFY ANYTHING IN THIS CELL THAT IS BELOW THIS LINE\n",
    "\"\"\"\n",
    "tests.test_train_nn(train_neural_network)"
   ]
  },
  {
   "cell_type": "markdown",
   "metadata": {
    "deletable": true,
    "editable": true
   },
   "source": [
    "### Show Stats\n",
    "Implement the function `print_stats` to print loss and validation accuracy.  Use the global variables `valid_features` and `valid_labels` to calculate validation accuracy.  Use a keep probability of `1.0` to calculate the loss and validation accuracy."
   ]
  },
  {
   "cell_type": "code",
   "execution_count": 15,
   "metadata": {
    "collapsed": false,
    "deletable": true,
    "editable": true
   },
   "outputs": [],
   "source": [
    "def print_stats(session, feature_batch, label_batch, cost, accuracy):\n",
    "    \"\"\"\n",
    "    Print information about loss and validation accuracy\n",
    "    : session: Current TensorFlow session\n",
    "    : feature_batch: Batch of Numpy image data\n",
    "    : label_batch: Batch of Numpy label data\n",
    "    : cost: TensorFlow cost function\n",
    "    : accuracy: TensorFlow accuracy function\n",
    "    \"\"\"\n",
    "    # TODO: Implement Function\n",
    "    validation_accuracy = sess.run(accuracy, feed_dict={\n",
    "        x: valid_features,\n",
    "        y: valid_labels,\n",
    "        keep_prob: 1})\n",
    "    loss = sess.run(cost, feed_dict={\n",
    "        x: feature_batch,\n",
    "        y: label_batch,\n",
    "        keep_prob: 1})\n",
    "    print(\"loss: {0}, accuracy: {1}\".format(loss, validation_accuracy))"
   ]
  },
  {
   "cell_type": "markdown",
   "metadata": {
    "deletable": true,
    "editable": true
   },
   "source": [
    "### Hyperparameters\n",
    "Tune the following parameters:\n",
    "* Set `epochs` to the number of iterations until the network stops learning or start overfitting\n",
    "* Set `batch_size` to the highest number that your machine has memory for.  Most people set them to common sizes of memory:\n",
    " * 64\n",
    " * 128\n",
    " * 256\n",
    " * ...\n",
    "* Set `keep_probability` to the probability of keeping a node using dropout"
   ]
  },
  {
   "cell_type": "code",
   "execution_count": 16,
   "metadata": {
    "collapsed": true,
    "deletable": true,
    "editable": true
   },
   "outputs": [],
   "source": [
    "# TODO: Tune Parameters\n",
    "epochs = 50\n",
    "batch_size = 256\n",
    "keep_probability = .7"
   ]
  },
  {
   "cell_type": "markdown",
   "metadata": {
    "deletable": true,
    "editable": true
   },
   "source": [
    "### Train on a Single CIFAR-10 Batch\n",
    "Instead of training the neural network on all the CIFAR-10 batches of data, let's use a single batch. This should save time while you iterate on the model to get a better accuracy.  Once the final validation accuracy is 50% or greater, run the model on all the data in the next section."
   ]
  },
  {
   "cell_type": "code",
   "execution_count": 17,
   "metadata": {
    "collapsed": false,
    "deletable": true,
    "editable": true
   },
   "outputs": [
    {
     "name": "stdout",
     "output_type": "stream",
     "text": [
      "Checking the Training on a Single Batch...\n",
      "Epoch  1, CIFAR-10 Batch 1:  loss: 2.2713088989257812, accuracy: 0.12939999997615814\n",
      "Epoch  2, CIFAR-10 Batch 1:  loss: 2.2247257232666016, accuracy: 0.17499999701976776\n",
      "Epoch  3, CIFAR-10 Batch 1:  loss: 2.190823793411255, accuracy: 0.2337999939918518\n",
      "Epoch  4, CIFAR-10 Batch 1:  loss: 2.1043269634246826, accuracy: 0.29919999837875366\n",
      "Epoch  5, CIFAR-10 Batch 1:  loss: 2.0527069568634033, accuracy: 0.30320000648498535\n",
      "Epoch  6, CIFAR-10 Batch 1:  loss: 1.9681106805801392, accuracy: 0.3240000009536743\n",
      "Epoch  7, CIFAR-10 Batch 1:  loss: 1.9075431823730469, accuracy: 0.3409999907016754\n",
      "Epoch  8, CIFAR-10 Batch 1:  loss: 1.8315467834472656, accuracy: 0.36660000681877136\n",
      "Epoch  9, CIFAR-10 Batch 1:  loss: 1.7386318445205688, accuracy: 0.3693999946117401\n",
      "Epoch 10, CIFAR-10 Batch 1:  loss: 1.6392650604248047, accuracy: 0.3806000053882599\n",
      "Epoch 11, CIFAR-10 Batch 1:  loss: 1.5982297658920288, accuracy: 0.3790000081062317\n",
      "Epoch 12, CIFAR-10 Batch 1:  loss: 1.4748029708862305, accuracy: 0.39500001072883606\n",
      "Epoch 13, CIFAR-10 Batch 1:  loss: 1.4410898685455322, accuracy: 0.3962000012397766\n",
      "Epoch 14, CIFAR-10 Batch 1:  loss: 1.4537353515625, accuracy: 0.40119999647140503\n",
      "Epoch 15, CIFAR-10 Batch 1:  loss: 1.3906009197235107, accuracy: 0.39480000734329224\n",
      "Epoch 16, CIFAR-10 Batch 1:  loss: 1.3164325952529907, accuracy: 0.40700000524520874\n",
      "Epoch 17, CIFAR-10 Batch 1:  loss: 1.2724061012268066, accuracy: 0.41760000586509705\n",
      "Epoch 18, CIFAR-10 Batch 1:  loss: 1.2202508449554443, accuracy: 0.420199990272522\n",
      "Epoch 19, CIFAR-10 Batch 1:  loss: 1.2414147853851318, accuracy: 0.41260001063346863\n",
      "Epoch 20, CIFAR-10 Batch 1:  loss: 1.1700773239135742, accuracy: 0.4228000044822693\n",
      "Epoch 21, CIFAR-10 Batch 1:  loss: 1.1756566762924194, accuracy: 0.4189999997615814\n",
      "Epoch 22, CIFAR-10 Batch 1:  loss: 1.150689721107483, accuracy: 0.414000004529953\n",
      "Epoch 23, CIFAR-10 Batch 1:  loss: 1.0725892782211304, accuracy: 0.43860000371932983\n",
      "Epoch 24, CIFAR-10 Batch 1:  loss: 1.0997270345687866, accuracy: 0.423799991607666\n",
      "Epoch 25, CIFAR-10 Batch 1:  loss: 1.0773224830627441, accuracy: 0.42640000581741333\n",
      "Epoch 26, CIFAR-10 Batch 1:  loss: 0.9279688000679016, accuracy: 0.4352000057697296\n",
      "Epoch 27, CIFAR-10 Batch 1:  loss: 0.9737380743026733, accuracy: 0.4275999963283539\n",
      "Epoch 28, CIFAR-10 Batch 1:  loss: 0.8804861307144165, accuracy: 0.44119998812675476\n",
      "Epoch 29, CIFAR-10 Batch 1:  loss: 0.8689550161361694, accuracy: 0.44999998807907104\n",
      "Epoch 30, CIFAR-10 Batch 1:  loss: 0.8204857110977173, accuracy: 0.44200000166893005\n",
      "Epoch 31, CIFAR-10 Batch 1:  loss: 0.8112378120422363, accuracy: 0.44839999079704285\n",
      "Epoch 32, CIFAR-10 Batch 1:  loss: 0.7429286241531372, accuracy: 0.45500001311302185\n",
      "Epoch 33, CIFAR-10 Batch 1:  loss: 0.7199634313583374, accuracy: 0.4336000084877014\n",
      "Epoch 34, CIFAR-10 Batch 1:  loss: 0.6998729705810547, accuracy: 0.4465999901294708\n",
      "Epoch 35, CIFAR-10 Batch 1:  loss: 0.6724728941917419, accuracy: 0.4424000084400177\n",
      "Epoch 36, CIFAR-10 Batch 1:  loss: 0.6262343525886536, accuracy: 0.4514000117778778\n",
      "Epoch 37, CIFAR-10 Batch 1:  loss: 0.7208290100097656, accuracy: 0.4424000084400177\n",
      "Epoch 38, CIFAR-10 Batch 1:  loss: 0.6609358191490173, accuracy: 0.44920000433921814\n",
      "Epoch 39, CIFAR-10 Batch 1:  loss: 0.5766806602478027, accuracy: 0.45339998602867126\n",
      "Epoch 40, CIFAR-10 Batch 1:  loss: 0.6155783534049988, accuracy: 0.4334000051021576\n",
      "Epoch 41, CIFAR-10 Batch 1:  loss: 0.5831164121627808, accuracy: 0.42719998955726624\n",
      "Epoch 42, CIFAR-10 Batch 1:  loss: 0.606258749961853, accuracy: 0.44179999828338623\n",
      "Epoch 43, CIFAR-10 Batch 1:  loss: 0.570141613483429, accuracy: 0.43720000982284546\n",
      "Epoch 44, CIFAR-10 Batch 1:  loss: 0.5312170386314392, accuracy: 0.43779999017715454\n",
      "Epoch 45, CIFAR-10 Batch 1:  loss: 0.5088110566139221, accuracy: 0.43799999356269836\n",
      "Epoch 46, CIFAR-10 Batch 1:  loss: 0.5074390769004822, accuracy: 0.44279998540878296\n",
      "Epoch 47, CIFAR-10 Batch 1:  loss: 0.5100266337394714, accuracy: 0.4426000118255615\n",
      "Epoch 48, CIFAR-10 Batch 1:  loss: 0.4912630021572113, accuracy: 0.44279998540878296\n",
      "Epoch 49, CIFAR-10 Batch 1:  loss: 0.47495919466018677, accuracy: 0.45159998536109924\n",
      "Epoch 50, CIFAR-10 Batch 1:  loss: 0.46319398283958435, accuracy: 0.4578000009059906\n"
     ]
    }
   ],
   "source": [
    "\"\"\"\n",
    "DON'T MODIFY ANYTHING IN THIS CELL\n",
    "\"\"\"\n",
    "print('Checking the Training on a Single Batch...')\n",
    "with tf.Session() as sess:\n",
    "    # Initializing the variables\n",
    "    sess.run(tf.global_variables_initializer())\n",
    "    \n",
    "    # Training cycle\n",
    "    for epoch in range(epochs):\n",
    "        batch_i = 1\n",
    "        for batch_features, batch_labels in helper.load_preprocess_training_batch(batch_i, batch_size):\n",
    "            train_neural_network(sess, optimizer, keep_probability, batch_features, batch_labels)\n",
    "        print('Epoch {:>2}, CIFAR-10 Batch {}:  '.format(epoch + 1, batch_i), end='')\n",
    "        print_stats(sess, batch_features, batch_labels, cost, accuracy)"
   ]
  },
  {
   "cell_type": "markdown",
   "metadata": {
    "deletable": true,
    "editable": true
   },
   "source": [
    "### Fully Train the Model\n",
    "Now that you got a good accuracy with a single CIFAR-10 batch, try it with all five batches."
   ]
  },
  {
   "cell_type": "code",
   "execution_count": 18,
   "metadata": {
    "collapsed": false,
    "deletable": true,
    "editable": true
   },
   "outputs": [
    {
     "name": "stdout",
     "output_type": "stream",
     "text": [
      "Training...\n",
      "Epoch  1, CIFAR-10 Batch 1:  loss: 2.300929069519043, accuracy: 0.12160000205039978\n",
      "Epoch  1, CIFAR-10 Batch 2:  loss: 2.120701551437378, accuracy: 0.18780000507831573\n",
      "Epoch  1, CIFAR-10 Batch 3:  loss: 1.882523775100708, accuracy: 0.22380000352859497\n",
      "Epoch  1, CIFAR-10 Batch 4:  loss: 1.9760221242904663, accuracy: 0.24539999663829803\n",
      "Epoch  1, CIFAR-10 Batch 5:  loss: 2.010587692260742, accuracy: 0.25699999928474426\n",
      "Epoch  2, CIFAR-10 Batch 1:  loss: 2.0270779132843018, accuracy: 0.29019999504089355\n",
      "Epoch  2, CIFAR-10 Batch 2:  loss: 1.9023650884628296, accuracy: 0.32260000705718994\n",
      "Epoch  2, CIFAR-10 Batch 3:  loss: 1.633986234664917, accuracy: 0.3287999927997589\n",
      "Epoch  2, CIFAR-10 Batch 4:  loss: 1.656986951828003, accuracy: 0.35580000281333923\n",
      "Epoch  2, CIFAR-10 Batch 5:  loss: 1.7641427516937256, accuracy: 0.358599990606308\n",
      "Epoch  3, CIFAR-10 Batch 1:  loss: 1.8082239627838135, accuracy: 0.3840000033378601\n",
      "Epoch  3, CIFAR-10 Batch 2:  loss: 1.6875556707382202, accuracy: 0.3799999952316284\n",
      "Epoch  3, CIFAR-10 Batch 3:  loss: 1.6235548257827759, accuracy: 0.3874000012874603\n",
      "Epoch  3, CIFAR-10 Batch 4:  loss: 1.630994439125061, accuracy: 0.3968000113964081\n",
      "Epoch  3, CIFAR-10 Batch 5:  loss: 1.6668533086776733, accuracy: 0.40959998965263367\n",
      "Epoch  4, CIFAR-10 Batch 1:  loss: 1.643984079360962, accuracy: 0.38659998774528503\n",
      "Epoch  4, CIFAR-10 Batch 2:  loss: 1.578926682472229, accuracy: 0.39259999990463257\n",
      "Epoch  4, CIFAR-10 Batch 3:  loss: 1.5036205053329468, accuracy: 0.41100001335144043\n",
      "Epoch  4, CIFAR-10 Batch 4:  loss: 1.55110764503479, accuracy: 0.43459999561309814\n",
      "Epoch  4, CIFAR-10 Batch 5:  loss: 1.5942630767822266, accuracy: 0.4397999942302704\n",
      "Epoch  5, CIFAR-10 Batch 1:  loss: 1.6468242406845093, accuracy: 0.4456000030040741\n",
      "Epoch  5, CIFAR-10 Batch 2:  loss: 1.5421924591064453, accuracy: 0.4406000077724457\n",
      "Epoch  5, CIFAR-10 Batch 3:  loss: 1.3796247243881226, accuracy: 0.4390000104904175\n",
      "Epoch  5, CIFAR-10 Batch 4:  loss: 1.43721342086792, accuracy: 0.4429999887943268\n",
      "Epoch  5, CIFAR-10 Batch 5:  loss: 1.6543117761611938, accuracy: 0.42739999294281006\n",
      "Epoch  6, CIFAR-10 Batch 1:  loss: 1.5307838916778564, accuracy: 0.44339999556541443\n",
      "Epoch  6, CIFAR-10 Batch 2:  loss: 1.3871676921844482, accuracy: 0.4429999887943268\n",
      "Epoch  6, CIFAR-10 Batch 3:  loss: 1.3191853761672974, accuracy: 0.45320001244544983\n",
      "Epoch  6, CIFAR-10 Batch 4:  loss: 1.3623268604278564, accuracy: 0.45899999141693115\n",
      "Epoch  6, CIFAR-10 Batch 5:  loss: 1.551271915435791, accuracy: 0.44699999690055847\n",
      "Epoch  7, CIFAR-10 Batch 1:  loss: 1.4832631349563599, accuracy: 0.454800009727478\n",
      "Epoch  7, CIFAR-10 Batch 2:  loss: 1.371052861213684, accuracy: 0.4442000091075897\n",
      "Epoch  7, CIFAR-10 Batch 3:  loss: 1.2839317321777344, accuracy: 0.4544000029563904\n",
      "Epoch  7, CIFAR-10 Batch 4:  loss: 1.2428348064422607, accuracy: 0.4713999927043915\n",
      "Epoch  7, CIFAR-10 Batch 5:  loss: 1.5375159978866577, accuracy: 0.454800009727478\n",
      "Epoch  8, CIFAR-10 Batch 1:  loss: 1.5034345388412476, accuracy: 0.4722000062465668\n",
      "Epoch  8, CIFAR-10 Batch 2:  loss: 1.2307310104370117, accuracy: 0.46399998664855957\n",
      "Epoch  8, CIFAR-10 Batch 3:  loss: 1.2471797466278076, accuracy: 0.4708000123500824\n",
      "Epoch  8, CIFAR-10 Batch 4:  loss: 1.2038605213165283, accuracy: 0.46779999136924744\n",
      "Epoch  8, CIFAR-10 Batch 5:  loss: 1.505000114440918, accuracy: 0.4681999981403351\n",
      "Epoch  9, CIFAR-10 Batch 1:  loss: 1.3878467082977295, accuracy: 0.4702000021934509\n",
      "Epoch  9, CIFAR-10 Batch 2:  loss: 1.2258375883102417, accuracy: 0.4634000062942505\n",
      "Epoch  9, CIFAR-10 Batch 3:  loss: 1.1797997951507568, accuracy: 0.4636000096797943\n",
      "Epoch  9, CIFAR-10 Batch 4:  loss: 1.1885793209075928, accuracy: 0.4729999899864197\n",
      "Epoch  9, CIFAR-10 Batch 5:  loss: 1.4712579250335693, accuracy: 0.47760000824928284\n",
      "Epoch 10, CIFAR-10 Batch 1:  loss: 1.3527041673660278, accuracy: 0.4830000102519989\n",
      "Epoch 10, CIFAR-10 Batch 2:  loss: 1.1936382055282593, accuracy: 0.4805999994277954\n",
      "Epoch 10, CIFAR-10 Batch 3:  loss: 1.0953700542449951, accuracy: 0.4832000136375427\n",
      "Epoch 10, CIFAR-10 Batch 4:  loss: 1.1329411268234253, accuracy: 0.48100000619888306\n",
      "Epoch 10, CIFAR-10 Batch 5:  loss: 1.4000904560089111, accuracy: 0.47920000553131104\n",
      "Epoch 11, CIFAR-10 Batch 1:  loss: 1.2523918151855469, accuracy: 0.4814000129699707\n",
      "Epoch 11, CIFAR-10 Batch 2:  loss: 1.1521844863891602, accuracy: 0.4864000082015991\n",
      "Epoch 11, CIFAR-10 Batch 3:  loss: 1.0408306121826172, accuracy: 0.48660001158714294\n",
      "Epoch 11, CIFAR-10 Batch 4:  loss: 1.1172573566436768, accuracy: 0.4772000014781952\n",
      "Epoch 11, CIFAR-10 Batch 5:  loss: 1.39790940284729, accuracy: 0.4844000041484833\n",
      "Epoch 12, CIFAR-10 Batch 1:  loss: 1.2723442316055298, accuracy: 0.4878000020980835\n",
      "Epoch 12, CIFAR-10 Batch 2:  loss: 1.140072226524353, accuracy: 0.49540001153945923\n",
      "Epoch 12, CIFAR-10 Batch 3:  loss: 1.0733774900436401, accuracy: 0.487199991941452\n",
      "Epoch 12, CIFAR-10 Batch 4:  loss: 1.0457665920257568, accuracy: 0.4973999857902527\n",
      "Epoch 12, CIFAR-10 Batch 5:  loss: 1.3520658016204834, accuracy: 0.4952000081539154\n",
      "Epoch 13, CIFAR-10 Batch 1:  loss: 1.1997926235198975, accuracy: 0.4821999967098236\n",
      "Epoch 13, CIFAR-10 Batch 2:  loss: 1.05727219581604, accuracy: 0.4893999993801117\n",
      "Epoch 13, CIFAR-10 Batch 3:  loss: 1.0402309894561768, accuracy: 0.48539999127388\n",
      "Epoch 13, CIFAR-10 Batch 4:  loss: 1.0620523691177368, accuracy: 0.492000013589859\n",
      "Epoch 13, CIFAR-10 Batch 5:  loss: 1.3131294250488281, accuracy: 0.4828000068664551\n",
      "Epoch 14, CIFAR-10 Batch 1:  loss: 1.1344020366668701, accuracy: 0.4787999987602234\n",
      "Epoch 14, CIFAR-10 Batch 2:  loss: 1.0639503002166748, accuracy: 0.4846000075340271\n",
      "Epoch 14, CIFAR-10 Batch 3:  loss: 0.9929672479629517, accuracy: 0.4941999912261963\n",
      "Epoch 14, CIFAR-10 Batch 4:  loss: 1.0541374683380127, accuracy: 0.5016000270843506\n",
      "Epoch 14, CIFAR-10 Batch 5:  loss: 1.263419270515442, accuracy: 0.5012000203132629\n",
      "Epoch 15, CIFAR-10 Batch 1:  loss: 1.1035717725753784, accuracy: 0.49619999527931213\n",
      "Epoch 15, CIFAR-10 Batch 2:  loss: 0.9830229878425598, accuracy: 0.4903999865055084\n",
      "Epoch 15, CIFAR-10 Batch 3:  loss: 0.9260522127151489, accuracy: 0.49939998984336853\n",
      "Epoch 15, CIFAR-10 Batch 4:  loss: 1.0553966760635376, accuracy: 0.49799999594688416\n",
      "Epoch 15, CIFAR-10 Batch 5:  loss: 1.288266897201538, accuracy: 0.4973999857902527\n",
      "Epoch 16, CIFAR-10 Batch 1:  loss: 1.131358027458191, accuracy: 0.49799999594688416\n",
      "Epoch 16, CIFAR-10 Batch 2:  loss: 0.9896163940429688, accuracy: 0.49900001287460327\n",
      "Epoch 16, CIFAR-10 Batch 3:  loss: 0.9302572011947632, accuracy: 0.5081999897956848\n",
      "Epoch 16, CIFAR-10 Batch 4:  loss: 1.0005033016204834, accuracy: 0.4991999864578247\n",
      "Epoch 16, CIFAR-10 Batch 5:  loss: 1.2353148460388184, accuracy: 0.49619999527931213\n",
      "Epoch 17, CIFAR-10 Batch 1:  loss: 1.068310022354126, accuracy: 0.4973999857902527\n",
      "Epoch 17, CIFAR-10 Batch 2:  loss: 0.9653789401054382, accuracy: 0.5001999735832214\n",
      "Epoch 17, CIFAR-10 Batch 3:  loss: 0.8906346559524536, accuracy: 0.5034000277519226\n",
      "Epoch 17, CIFAR-10 Batch 4:  loss: 0.9566342234611511, accuracy: 0.5149999856948853\n",
      "Epoch 17, CIFAR-10 Batch 5:  loss: 1.1700359582901, accuracy: 0.5090000033378601\n",
      "Epoch 18, CIFAR-10 Batch 1:  loss: 1.077659010887146, accuracy: 0.5037999749183655\n",
      "Epoch 18, CIFAR-10 Batch 2:  loss: 0.9270960688591003, accuracy: 0.5094000101089478\n",
      "Epoch 18, CIFAR-10 Batch 3:  loss: 0.877995491027832, accuracy: 0.503000020980835\n",
      "Epoch 18, CIFAR-10 Batch 4:  loss: 0.9697561264038086, accuracy: 0.5\n",
      "Epoch 18, CIFAR-10 Batch 5:  loss: 1.2072124481201172, accuracy: 0.5034000277519226\n",
      "Epoch 19, CIFAR-10 Batch 1:  loss: 1.0172719955444336, accuracy: 0.4925999939441681\n",
      "Epoch 19, CIFAR-10 Batch 2:  loss: 0.9161494970321655, accuracy: 0.5109999775886536\n",
      "Epoch 19, CIFAR-10 Batch 3:  loss: 0.8888514637947083, accuracy: 0.5145999789237976\n",
      "Epoch 19, CIFAR-10 Batch 4:  loss: 0.9443527460098267, accuracy: 0.5139999985694885\n",
      "Epoch 19, CIFAR-10 Batch 5:  loss: 1.0903956890106201, accuracy: 0.5067999958992004\n",
      "Epoch 20, CIFAR-10 Batch 1:  loss: 0.9875599145889282, accuracy: 0.5067999958992004\n",
      "Epoch 20, CIFAR-10 Batch 2:  loss: 0.9469197988510132, accuracy: 0.5163999795913696\n",
      "Epoch 20, CIFAR-10 Batch 3:  loss: 0.8257638812065125, accuracy: 0.5113999843597412\n",
      "Epoch 20, CIFAR-10 Batch 4:  loss: 0.9203710556030273, accuracy: 0.5249999761581421\n",
      "Epoch 20, CIFAR-10 Batch 5:  loss: 1.034049153327942, accuracy: 0.5188000202178955\n",
      "Epoch 21, CIFAR-10 Batch 1:  loss: 0.9971869587898254, accuracy: 0.5099999904632568\n",
      "Epoch 21, CIFAR-10 Batch 2:  loss: 0.864895224571228, accuracy: 0.5130000114440918\n",
      "Epoch 21, CIFAR-10 Batch 3:  loss: 0.7985733151435852, accuracy: 0.5116000175476074\n",
      "Epoch 21, CIFAR-10 Batch 4:  loss: 0.8844841718673706, accuracy: 0.5194000005722046\n",
      "Epoch 21, CIFAR-10 Batch 5:  loss: 1.0508476495742798, accuracy: 0.5162000060081482\n",
      "Epoch 22, CIFAR-10 Batch 1:  loss: 0.9661741256713867, accuracy: 0.5044000148773193\n",
      "Epoch 22, CIFAR-10 Batch 2:  loss: 0.9031165838241577, accuracy: 0.5166000127792358\n",
      "Epoch 22, CIFAR-10 Batch 3:  loss: 0.7774854302406311, accuracy: 0.5131999850273132\n",
      "Epoch 22, CIFAR-10 Batch 4:  loss: 0.8877395391464233, accuracy: 0.5224000215530396\n",
      "Epoch 22, CIFAR-10 Batch 5:  loss: 1.0371887683868408, accuracy: 0.51419997215271\n",
      "Epoch 23, CIFAR-10 Batch 1:  loss: 0.9396778345108032, accuracy: 0.5153999924659729\n",
      "Epoch 23, CIFAR-10 Batch 2:  loss: 0.904152512550354, accuracy: 0.5175999999046326\n",
      "Epoch 23, CIFAR-10 Batch 3:  loss: 0.8563507795333862, accuracy: 0.5153999924659729\n",
      "Epoch 23, CIFAR-10 Batch 4:  loss: 0.8833390474319458, accuracy: 0.5238000154495239\n",
      "Epoch 23, CIFAR-10 Batch 5:  loss: 1.0010491609573364, accuracy: 0.5113999843597412\n",
      "Epoch 24, CIFAR-10 Batch 1:  loss: 0.971260666847229, accuracy: 0.503600001335144\n",
      "Epoch 24, CIFAR-10 Batch 2:  loss: 0.8999235033988953, accuracy: 0.5153999924659729\n",
      "Epoch 24, CIFAR-10 Batch 3:  loss: 0.7851333022117615, accuracy: 0.5185999870300293\n",
      "Epoch 24, CIFAR-10 Batch 4:  loss: 0.9360615015029907, accuracy: 0.5016000270843506\n",
      "Epoch 24, CIFAR-10 Batch 5:  loss: 0.9585963487625122, accuracy: 0.5174000263214111\n",
      "Epoch 25, CIFAR-10 Batch 1:  loss: 0.902566134929657, accuracy: 0.5153999924659729\n",
      "Epoch 25, CIFAR-10 Batch 2:  loss: 0.886867344379425, accuracy: 0.5163999795913696\n",
      "Epoch 25, CIFAR-10 Batch 3:  loss: 0.712056040763855, accuracy: 0.5216000080108643\n",
      "Epoch 25, CIFAR-10 Batch 4:  loss: 0.8666477203369141, accuracy: 0.515999972820282\n",
      "Epoch 25, CIFAR-10 Batch 5:  loss: 0.9247472882270813, accuracy: 0.5266000032424927\n",
      "Epoch 26, CIFAR-10 Batch 1:  loss: 0.9484502673149109, accuracy: 0.5314000248908997\n",
      "Epoch 26, CIFAR-10 Batch 2:  loss: 0.8331178426742554, accuracy: 0.5206000208854675\n",
      "Epoch 26, CIFAR-10 Batch 3:  loss: 0.6848243474960327, accuracy: 0.527400016784668\n",
      "Epoch 26, CIFAR-10 Batch 4:  loss: 0.8088040351867676, accuracy: 0.5321999788284302\n",
      "Epoch 26, CIFAR-10 Batch 5:  loss: 0.8620271682739258, accuracy: 0.524399995803833\n",
      "Epoch 27, CIFAR-10 Batch 1:  loss: 0.8850473165512085, accuracy: 0.5238000154495239\n",
      "Epoch 27, CIFAR-10 Batch 2:  loss: 0.8700515627861023, accuracy: 0.5202000141143799\n",
      "Epoch 27, CIFAR-10 Batch 3:  loss: 0.7195156216621399, accuracy: 0.5299999713897705\n",
      "Epoch 27, CIFAR-10 Batch 4:  loss: 0.8491512537002563, accuracy: 0.5302000045776367\n",
      "Epoch 27, CIFAR-10 Batch 5:  loss: 0.8533918261528015, accuracy: 0.5307999849319458\n",
      "Epoch 28, CIFAR-10 Batch 1:  loss: 0.8967530131340027, accuracy: 0.5307999849319458\n",
      "Epoch 28, CIFAR-10 Batch 2:  loss: 0.7650032043457031, accuracy: 0.5288000106811523\n",
      "Epoch 28, CIFAR-10 Batch 3:  loss: 0.7424200177192688, accuracy: 0.5230000019073486\n",
      "Epoch 28, CIFAR-10 Batch 4:  loss: 0.8039752840995789, accuracy: 0.5248000025749207\n",
      "Epoch 28, CIFAR-10 Batch 5:  loss: 0.8936907052993774, accuracy: 0.5135999917984009\n",
      "Epoch 29, CIFAR-10 Batch 1:  loss: 0.8361934423446655, accuracy: 0.5353999733924866\n",
      "Epoch 29, CIFAR-10 Batch 2:  loss: 0.7837018966674805, accuracy: 0.5230000019073486\n",
      "Epoch 29, CIFAR-10 Batch 3:  loss: 0.7172743678092957, accuracy: 0.5320000052452087\n",
      "Epoch 29, CIFAR-10 Batch 4:  loss: 0.7948700189590454, accuracy: 0.5320000052452087\n",
      "Epoch 29, CIFAR-10 Batch 5:  loss: 0.8625887036323547, accuracy: 0.5284000039100647\n",
      "Epoch 30, CIFAR-10 Batch 1:  loss: 0.8530988693237305, accuracy: 0.5329999923706055\n",
      "Epoch 30, CIFAR-10 Batch 2:  loss: 0.7533460855484009, accuracy: 0.5338000059127808\n",
      "Epoch 30, CIFAR-10 Batch 3:  loss: 0.6972790956497192, accuracy: 0.5332000255584717\n",
      "Epoch 30, CIFAR-10 Batch 4:  loss: 0.735227108001709, accuracy: 0.5407999753952026\n",
      "Epoch 30, CIFAR-10 Batch 5:  loss: 0.8093463182449341, accuracy: 0.5296000242233276\n",
      "Epoch 31, CIFAR-10 Batch 1:  loss: 0.9395225644111633, accuracy: 0.5285999774932861\n",
      "Epoch 31, CIFAR-10 Batch 2:  loss: 0.8127890825271606, accuracy: 0.531000018119812\n",
      "Epoch 31, CIFAR-10 Batch 3:  loss: 0.6979466676712036, accuracy: 0.5329999923706055\n",
      "Epoch 31, CIFAR-10 Batch 4:  loss: 0.8058074712753296, accuracy: 0.5360000133514404\n",
      "Epoch 31, CIFAR-10 Batch 5:  loss: 0.8413552045822144, accuracy: 0.5271999835968018\n",
      "Epoch 32, CIFAR-10 Batch 1:  loss: 0.7853533029556274, accuracy: 0.5339999794960022\n",
      "Epoch 32, CIFAR-10 Batch 2:  loss: 0.7691663503646851, accuracy: 0.5365999937057495\n",
      "Epoch 32, CIFAR-10 Batch 3:  loss: 0.6482798457145691, accuracy: 0.5315999984741211\n",
      "Epoch 32, CIFAR-10 Batch 4:  loss: 0.7160075902938843, accuracy: 0.5374000072479248\n",
      "Epoch 32, CIFAR-10 Batch 5:  loss: 0.829570472240448, accuracy: 0.5315999984741211\n",
      "Epoch 33, CIFAR-10 Batch 1:  loss: 0.7897718548774719, accuracy: 0.5281999707221985\n",
      "Epoch 33, CIFAR-10 Batch 2:  loss: 0.755877673625946, accuracy: 0.5332000255584717\n",
      "Epoch 33, CIFAR-10 Batch 3:  loss: 0.6583003401756287, accuracy: 0.5315999984741211\n",
      "Epoch 33, CIFAR-10 Batch 4:  loss: 0.7639843225479126, accuracy: 0.5360000133514404\n",
      "Epoch 33, CIFAR-10 Batch 5:  loss: 0.7989739775657654, accuracy: 0.5342000126838684\n",
      "Epoch 34, CIFAR-10 Batch 1:  loss: 0.7456623315811157, accuracy: 0.5351999998092651\n",
      "Epoch 34, CIFAR-10 Batch 2:  loss: 0.7976027727127075, accuracy: 0.5353999733924866\n",
      "Epoch 34, CIFAR-10 Batch 3:  loss: 0.6680113673210144, accuracy: 0.5347999930381775\n",
      "Epoch 34, CIFAR-10 Batch 4:  loss: 0.7369879484176636, accuracy: 0.5342000126838684\n",
      "Epoch 34, CIFAR-10 Batch 5:  loss: 0.7786533236503601, accuracy: 0.5317999720573425\n",
      "Epoch 35, CIFAR-10 Batch 1:  loss: 0.754828929901123, accuracy: 0.5393999814987183\n",
      "Epoch 35, CIFAR-10 Batch 2:  loss: 0.7429494857788086, accuracy: 0.5353999733924866\n",
      "Epoch 35, CIFAR-10 Batch 3:  loss: 0.6418324708938599, accuracy: 0.534600019454956\n",
      "Epoch 35, CIFAR-10 Batch 4:  loss: 0.7568657398223877, accuracy: 0.5368000268936157\n",
      "Epoch 35, CIFAR-10 Batch 5:  loss: 0.7260971069335938, accuracy: 0.5378000140190125\n",
      "Epoch 36, CIFAR-10 Batch 1:  loss: 0.7708674669265747, accuracy: 0.524399995803833\n",
      "Epoch 36, CIFAR-10 Batch 2:  loss: 0.7223221063613892, accuracy: 0.545199990272522\n",
      "Epoch 36, CIFAR-10 Batch 3:  loss: 0.5935274958610535, accuracy: 0.5440000295639038\n",
      "Epoch 36, CIFAR-10 Batch 4:  loss: 0.6958197355270386, accuracy: 0.5386000275611877\n",
      "Epoch 36, CIFAR-10 Batch 5:  loss: 0.7566768527030945, accuracy: 0.531000018119812\n",
      "Epoch 37, CIFAR-10 Batch 1:  loss: 0.7806791067123413, accuracy: 0.5365999937057495\n",
      "Epoch 37, CIFAR-10 Batch 2:  loss: 0.7274996638298035, accuracy: 0.5401999950408936\n",
      "Epoch 37, CIFAR-10 Batch 3:  loss: 0.5873926877975464, accuracy: 0.5418000221252441\n",
      "Epoch 37, CIFAR-10 Batch 4:  loss: 0.6981908679008484, accuracy: 0.5424000024795532\n",
      "Epoch 37, CIFAR-10 Batch 5:  loss: 0.7123891115188599, accuracy: 0.531000018119812\n",
      "Epoch 38, CIFAR-10 Batch 1:  loss: 0.7451100945472717, accuracy: 0.532800018787384\n",
      "Epoch 38, CIFAR-10 Batch 2:  loss: 0.7773867845535278, accuracy: 0.534600019454956\n",
      "Epoch 38, CIFAR-10 Batch 3:  loss: 0.6200174689292908, accuracy: 0.5415999889373779\n",
      "Epoch 38, CIFAR-10 Batch 4:  loss: 0.6980429887771606, accuracy: 0.5400000214576721\n",
      "Epoch 38, CIFAR-10 Batch 5:  loss: 0.7251901030540466, accuracy: 0.5296000242233276\n",
      "Epoch 39, CIFAR-10 Batch 1:  loss: 0.7284702062606812, accuracy: 0.5482000112533569\n",
      "Epoch 39, CIFAR-10 Batch 2:  loss: 0.6793130040168762, accuracy: 0.5460000038146973\n",
      "Epoch 39, CIFAR-10 Batch 3:  loss: 0.5704337358474731, accuracy: 0.5374000072479248\n",
      "Epoch 39, CIFAR-10 Batch 4:  loss: 0.6897794604301453, accuracy: 0.5429999828338623\n",
      "Epoch 39, CIFAR-10 Batch 5:  loss: 0.6974698305130005, accuracy: 0.5464000105857849\n",
      "Epoch 40, CIFAR-10 Batch 1:  loss: 0.7135855555534363, accuracy: 0.5483999848365784\n",
      "Epoch 40, CIFAR-10 Batch 2:  loss: 0.6939243078231812, accuracy: 0.5397999882698059\n",
      "Epoch 40, CIFAR-10 Batch 3:  loss: 0.5534521341323853, accuracy: 0.5473999977111816\n",
      "Epoch 40, CIFAR-10 Batch 4:  loss: 0.6299235820770264, accuracy: 0.5311999917030334\n",
      "Epoch 40, CIFAR-10 Batch 5:  loss: 0.6911362409591675, accuracy: 0.5338000059127808\n",
      "Epoch 41, CIFAR-10 Batch 1:  loss: 0.7193533182144165, accuracy: 0.527400016784668\n",
      "Epoch 41, CIFAR-10 Batch 2:  loss: 0.7414149045944214, accuracy: 0.5314000248908997\n",
      "Epoch 41, CIFAR-10 Batch 3:  loss: 0.5660468935966492, accuracy: 0.5446000099182129\n",
      "Epoch 41, CIFAR-10 Batch 4:  loss: 0.6429709196090698, accuracy: 0.5497999787330627\n",
      "Epoch 41, CIFAR-10 Batch 5:  loss: 0.6528282761573792, accuracy: 0.5473999977111816\n",
      "Epoch 42, CIFAR-10 Batch 1:  loss: 0.7074586153030396, accuracy: 0.5396000146865845\n",
      "Epoch 42, CIFAR-10 Batch 2:  loss: 0.6245697736740112, accuracy: 0.5442000031471252\n",
      "Epoch 42, CIFAR-10 Batch 3:  loss: 0.5775743722915649, accuracy: 0.5447999835014343\n",
      "Epoch 42, CIFAR-10 Batch 4:  loss: 0.6503580808639526, accuracy: 0.5428000092506409\n",
      "Epoch 42, CIFAR-10 Batch 5:  loss: 0.634067714214325, accuracy: 0.5483999848365784\n",
      "Epoch 43, CIFAR-10 Batch 1:  loss: 0.6295013427734375, accuracy: 0.5482000112533569\n",
      "Epoch 43, CIFAR-10 Batch 2:  loss: 0.635420024394989, accuracy: 0.5425999760627747\n",
      "Epoch 43, CIFAR-10 Batch 3:  loss: 0.5734990835189819, accuracy: 0.545199990272522\n",
      "Epoch 43, CIFAR-10 Batch 4:  loss: 0.6286941170692444, accuracy: 0.5514000058174133\n",
      "Epoch 43, CIFAR-10 Batch 5:  loss: 0.6767106056213379, accuracy: 0.5464000105857849\n",
      "Epoch 44, CIFAR-10 Batch 1:  loss: 0.7214776277542114, accuracy: 0.5271999835968018\n",
      "Epoch 44, CIFAR-10 Batch 2:  loss: 0.6546033620834351, accuracy: 0.5450000166893005\n",
      "Epoch 44, CIFAR-10 Batch 3:  loss: 0.5327959656715393, accuracy: 0.5440000295639038\n",
      "Epoch 44, CIFAR-10 Batch 4:  loss: 0.6376158595085144, accuracy: 0.5325999855995178\n",
      "Epoch 44, CIFAR-10 Batch 5:  loss: 0.6730779409408569, accuracy: 0.5361999869346619\n",
      "Epoch 45, CIFAR-10 Batch 1:  loss: 0.6228991746902466, accuracy: 0.5378000140190125\n",
      "Epoch 45, CIFAR-10 Batch 2:  loss: 0.658746600151062, accuracy: 0.5357999801635742\n",
      "Epoch 45, CIFAR-10 Batch 3:  loss: 0.561106264591217, accuracy: 0.5455999970436096\n",
      "Epoch 45, CIFAR-10 Batch 4:  loss: 0.6127765774726868, accuracy: 0.5339999794960022\n",
      "Epoch 45, CIFAR-10 Batch 5:  loss: 0.6513689756393433, accuracy: 0.5410000085830688\n",
      "Epoch 46, CIFAR-10 Batch 1:  loss: 0.7005583047866821, accuracy: 0.5419999957084656\n",
      "Epoch 46, CIFAR-10 Batch 2:  loss: 0.5781883597373962, accuracy: 0.5396000146865845\n",
      "Epoch 46, CIFAR-10 Batch 3:  loss: 0.5466821789741516, accuracy: 0.5465999841690063\n",
      "Epoch 46, CIFAR-10 Batch 4:  loss: 0.5985714197158813, accuracy: 0.5419999957084656\n",
      "Epoch 46, CIFAR-10 Batch 5:  loss: 0.6906031370162964, accuracy: 0.5400000214576721\n",
      "Epoch 47, CIFAR-10 Batch 1:  loss: 0.6459944248199463, accuracy: 0.5429999828338623\n",
      "Epoch 47, CIFAR-10 Batch 2:  loss: 0.6055405139923096, accuracy: 0.5396000146865845\n",
      "Epoch 47, CIFAR-10 Batch 3:  loss: 0.5312536358833313, accuracy: 0.5443999767303467\n",
      "Epoch 47, CIFAR-10 Batch 4:  loss: 0.6263803243637085, accuracy: 0.5388000011444092\n",
      "Epoch 47, CIFAR-10 Batch 5:  loss: 0.634425163269043, accuracy: 0.5437999963760376\n",
      "Epoch 48, CIFAR-10 Batch 1:  loss: 0.60090172290802, accuracy: 0.5432000160217285\n",
      "Epoch 48, CIFAR-10 Batch 2:  loss: 0.5875072479248047, accuracy: 0.5418000221252441\n",
      "Epoch 48, CIFAR-10 Batch 3:  loss: 0.5547453165054321, accuracy: 0.5396000146865845\n",
      "Epoch 48, CIFAR-10 Batch 4:  loss: 0.6150084137916565, accuracy: 0.5425999760627747\n",
      "Epoch 48, CIFAR-10 Batch 5:  loss: 0.5953314304351807, accuracy: 0.5432000160217285\n",
      "Epoch 49, CIFAR-10 Batch 1:  loss: 0.5869110822677612, accuracy: 0.5464000105857849\n",
      "Epoch 49, CIFAR-10 Batch 2:  loss: 0.6366324424743652, accuracy: 0.5419999957084656\n",
      "Epoch 49, CIFAR-10 Batch 3:  loss: 0.5329418182373047, accuracy: 0.5455999970436096\n",
      "Epoch 49, CIFAR-10 Batch 4:  loss: 0.5572065114974976, accuracy: 0.5440000295639038\n",
      "Epoch 49, CIFAR-10 Batch 5:  loss: 0.6190042495727539, accuracy: 0.5393999814987183\n",
      "Epoch 50, CIFAR-10 Batch 1:  loss: 0.6066536903381348, accuracy: 0.5404000282287598\n",
      "Epoch 50, CIFAR-10 Batch 2:  loss: 0.6123725175857544, accuracy: 0.5455999970436096\n",
      "Epoch 50, CIFAR-10 Batch 3:  loss: 0.5833873748779297, accuracy: 0.5406000018119812\n",
      "Epoch 50, CIFAR-10 Batch 4:  loss: 0.5978422164916992, accuracy: 0.5388000011444092\n",
      "Epoch 50, CIFAR-10 Batch 5:  loss: 0.585349440574646, accuracy: 0.5473999977111816\n"
     ]
    }
   ],
   "source": [
    "\"\"\"\n",
    "DON'T MODIFY ANYTHING IN THIS CELL\n",
    "\"\"\"\n",
    "save_model_path = './image_classification'\n",
    "\n",
    "print('Training...')\n",
    "with tf.Session() as sess:\n",
    "    # Initializing the variables\n",
    "    sess.run(tf.global_variables_initializer())\n",
    "    \n",
    "    # Training cycle\n",
    "    for epoch in range(epochs):\n",
    "        # Loop over all batches\n",
    "        n_batches = 5\n",
    "        for batch_i in range(1, n_batches + 1):\n",
    "            for batch_features, batch_labels in helper.load_preprocess_training_batch(batch_i, batch_size):\n",
    "                train_neural_network(sess, optimizer, keep_probability, batch_features, batch_labels)\n",
    "            print('Epoch {:>2}, CIFAR-10 Batch {}:  '.format(epoch + 1, batch_i), end='')\n",
    "            print_stats(sess, batch_features, batch_labels, cost, accuracy)\n",
    "            \n",
    "    # Save Model\n",
    "    saver = tf.train.Saver()\n",
    "    save_path = saver.save(sess, save_model_path)"
   ]
  },
  {
   "cell_type": "markdown",
   "metadata": {
    "deletable": true,
    "editable": true
   },
   "source": [
    "# Checkpoint\n",
    "The model has been saved to disk.\n",
    "## Test Model\n",
    "Test your model against the test dataset.  This will be your final accuracy. You should have an accuracy greater than 50%. If you don't, keep tweaking the model architecture and parameters."
   ]
  },
  {
   "cell_type": "code",
   "execution_count": 19,
   "metadata": {
    "collapsed": false,
    "deletable": true,
    "editable": true
   },
   "outputs": [
    {
     "name": "stdout",
     "output_type": "stream",
     "text": [
      "Testing Accuracy: 0.54521484375\n",
      "\n"
     ]
    },
    {
     "data": {
      "image/png": "[encoded data removed]",
      "text/plain": [
       "<matplotlib.figure.Figure at 0x10bad4630>"
      ]
     },
     "metadata": {
      "image/png": {
       "height": 319,
       "width": 355
      }
     },
     "output_type": "display_data"
    }
   ],
   "source": [
    "\"\"\"\n",
    "DON'T MODIFY ANYTHING IN THIS CELL\n",
    "\"\"\"\n",
    "%matplotlib inline\n",
    "%config InlineBackend.figure_format = 'retina'\n",
    "\n",
    "import tensorflow as tf\n",
    "import pickle\n",
    "import helper\n",
    "import random\n",
    "\n",
    "# Set batch size if not already set\n",
    "try:\n",
    "    if batch_size:\n",
    "        pass\n",
    "except NameError:\n",
    "    batch_size = 64\n",
    "\n",
    "save_model_path = './image_classification'\n",
    "n_samples = 4\n",
    "top_n_predictions = 3\n",
    "\n",
    "def test_model():\n",
    "    \"\"\"\n",
    "    Test the saved model against the test dataset\n",
    "    \"\"\"\n",
    "\n",
    "    test_features, test_labels = pickle.load(open('preprocess_training.p', mode='rb'))\n",
    "    loaded_graph = tf.Graph()\n",
    "\n",
    "    with tf.Session(graph=loaded_graph) as sess:\n",
    "        # Load model\n",
    "        loader = tf.train.import_meta_graph(save_model_path + '.meta')\n",
    "        loader.restore(sess, save_model_path)\n",
    "\n",
    "        # Get Tensors from loaded model\n",
    "        loaded_x = loaded_graph.get_tensor_by_name('x:0')\n",
    "        loaded_y = loaded_graph.get_tensor_by_name('y:0')\n",
    "        loaded_keep_prob = loaded_graph.get_tensor_by_name('keep_prob:0')\n",
    "        loaded_logits = loaded_graph.get_tensor_by_name('logits:0')\n",
    "        loaded_acc = loaded_graph.get_tensor_by_name('accuracy:0')\n",
    "        \n",
    "        # Get accuracy in batches for memory limitations\n",
    "        test_batch_acc_total = 0\n",
    "        test_batch_count = 0\n",
    "        \n",
    "        for train_feature_batch, train_label_batch in helper.batch_features_labels(test_features, test_labels, batch_size):\n",
    "            test_batch_acc_total += sess.run(\n",
    "                loaded_acc,\n",
    "                feed_dict={loaded_x: train_feature_batch, loaded_y: train_label_batch, loaded_keep_prob: 1.0})\n",
    "            test_batch_count += 1\n",
    "\n",
    "        print('Testing Accuracy: {}\\n'.format(test_batch_acc_total/test_batch_count))\n",
    "\n",
    "        # Print Random Samples\n",
    "        random_test_features, random_test_labels = tuple(zip(*random.sample(list(zip(test_features, test_labels)), n_samples)))\n",
    "        random_test_predictions = sess.run(\n",
    "            tf.nn.top_k(tf.nn.softmax(loaded_logits), top_n_predictions),\n",
    "            feed_dict={loaded_x: random_test_features, loaded_y: random_test_labels, loaded_keep_prob: 1.0})\n",
    "        helper.display_image_predictions(random_test_features, random_test_labels, random_test_predictions)\n",
    "\n",
    "\n",
    "test_model()"
   ]
  },
  {
   "cell_type": "markdown",
   "metadata": {
    "deletable": true,
    "editable": true
   },
   "source": [
    "## Why 50-80% Accuracy?\n",
    "You might be wondering why you can't get an accuracy any higher. First things first, 50% isn't bad for a simple CNN.  Pure guessing would get you 10% accuracy. However, you might notice people are getting scores [well above 80%](http://rodrigob.github.io/are_we_there_yet/build/classification_datasets_results.html#43494641522d3130).  That's because we haven't taught you all there is to know about neural networks. We still need to cover a few more techniques.\n",
    "## Submitting This Project\n",
    "When submitting this project, make sure to run all the cells before saving the notebook.  Save the notebook file as \"dlnd_image_classification.ipynb\" and save it as a HTML file under \"File\" -> \"Download as\".  Include the \"helper.py\" and \"problem_unittests.py\" files in your submission."
   ]
  }
 ],
 "metadata": {
  "kernelspec": {
   "display_name": "Python 3",
   "language": "python",
   "name": "python3"
  },
  "language_info": {
   "codemirror_mode": {
    "name": "ipython",
    "version": 3
   },
   "file_extension": ".py",
   "mimetype": "text/x-python",
   "name": "python",
   "nbconvert_exporter": "python",
   "pygments_lexer": "ipython3",
   "version": "3.5.3"
  }
 },
 "nbformat": 4,
 "nbformat_minor": 0
}
